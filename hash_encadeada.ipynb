{
  "nbformat": 4,
  "nbformat_minor": 0,
  "metadata": {
    "colab": {
      "provenance": []
    },
    "kernelspec": {
      "name": "python3",
      "display_name": "Python 3"
    },
    "language_info": {
      "name": "python"
    }
  },
  "cells": [
    {
      "cell_type": "code",
      "source": [
        "class Hash_table:\n",
        "    def __init__(self, n):\n",
        "        self.size_vetor = 10\n",
        "        self.size_lista = int(n/10)\n",
        "        self.T = [[[] for _ in range(self.size_lista)] for _ in range(self.size_vetor)] # int(n/10 + 1)\n",
        "\n",
        "    def __hash_str(self, key_str):\n",
        "        num = 0\n",
        "        for c in key_str:\n",
        "            num += ord(c)\n",
        "        return num\n",
        "\n",
        "    def __hash(self, key_str):\n",
        "        key = self.__hash_str(key_str)\n",
        "        return key % self.size_vetor\n",
        "\n",
        "    def __hash_lista(self, key_str):\n",
        "        key = self.__hash_str(key_str)\n",
        "        return (key * 7) % self.size_lista\n",
        "\n",
        "    def insert(self, key, value):\n",
        "        pos = self.__hash(key)\n",
        "        pos_lista = self.__hash_lista(key)\n",
        "        self.T[pos][pos_lista].append(value)\n",
        "\n",
        "    def get(self, key):\n",
        "        pos = self.__hash(key)\n",
        "        pos_lista = self.__hash_lista(key)\n",
        "        L = self.T[pos][pos_lista]\n",
        "        for value in L:\n",
        "            if(value.nome == key):\n",
        "                return value.to_string()\n",
        "        return \"Valor não encontrado\"\n",
        "\n",
        "    def print(self):\n",
        "        print(\"{\")\n",
        "        for i in range(self.size_vetor):\n",
        "            for j in range(self.size_lista):\n",
        "                alunos = self.T[i][j]\n",
        "                _str = \"\"\n",
        "                for aluno in alunos:\n",
        "                    _str += aluno.to_string() + \" \"\n",
        "                print(\"[\" + _str + \"]\")\n",
        "\n",
        "        print(\"}\")\n",
        "\n"
      ],
      "metadata": {
        "id": "oVtEGLF3R48i"
      },
      "execution_count": 28,
      "outputs": []
    },
    {
      "cell_type": "code",
      "source": [
        "class Aluno:\n",
        "    def __init__(self, nome, matricula):\n",
        "        self.nome = nome\n",
        "        self.matricula = matricula\n",
        "\n",
        "    def to_string(self):\n",
        "        return self.nome + \" - \" + str(self.matricula)\n",
        "\n",
        "a1 = Aluno(\"Maria\", 12)\n",
        "a2 = Aluno(\"João\", 6)\n",
        "a3 = Aluno(\"José\", 24)\n",
        "a4 = Aluno(\"Lucas\", 36)\n",
        "a5 = Aluno(\"Matheus\", 3)\n",
        "a6 = Aluno(\"Simão\", 7)\n",
        "\n",
        "\n",
        "ht = Hash_table(100)\n",
        "ht.insert(a1.nome, a1)\n",
        "ht.insert(a2.nome, a2)\n",
        "ht.insert(a3.nome, a3)\n",
        "ht.insert(a4.nome, a4)\n",
        "ht.insert(a5.nome, a5)\n",
        "ht.insert(a6.nome, a6)\n",
        "\n",
        "\n",
        "#ht.print()\n",
        "aluno = ht.get(\"Lucas\")\n",
        "aluno"
      ],
      "metadata": {
        "colab": {
          "base_uri": "https://localhost:8080/",
          "height": 35
        },
        "id": "FcQiUjXa3GOB",
        "outputId": "5a88db24-964b-4c9d-8b10-25b5b22d052f"
      },
      "execution_count": 32,
      "outputs": [
        {
          "output_type": "execute_result",
          "data": {
            "text/plain": [
              "'Lucas - 36'"
            ],
            "application/vnd.google.colaboratory.intrinsic+json": {
              "type": "string"
            }
          },
          "metadata": {},
          "execution_count": 32
        }
      ]
    }
  ]
}